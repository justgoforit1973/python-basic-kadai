{
  "nbformat": 4,
  "nbformat_minor": 0,
  "metadata": {
    "colab": {
      "provenance": [],
      "authorship_tag": "ABX9TyMtCOKM2b+c3IZpvh8ujhdG",
      "include_colab_link": true
    },
    "kernelspec": {
      "name": "python3",
      "display_name": "Python 3"
    },
    "language_info": {
      "name": "python"
    }
  },
  "cells": [
    {
      "cell_type": "markdown",
      "metadata": {
        "id": "view-in-github",
        "colab_type": "text"
      },
      "source": [
        "<a href=\"https://colab.research.google.com/github/justgoforit1973/python-basic-kadai/blob/main/kadai_017.ipynb\" target=\"_parent\"><img src=\"https://colab.research.google.com/assets/colab-badge.svg\" alt=\"Open In Colab\"/></a>"
      ]
    },
    {
      "cell_type": "code",
      "execution_count": 22,
      "metadata": {
        "colab": {
          "base_uri": "https://localhost:8080/"
        },
        "id": "IdrgChQYyLAe",
        "outputId": "90bd6c70-c542-4f71-ca53-e42d408e8ecf"
      },
      "outputs": [
        {
          "output_type": "stream",
          "name": "stdout",
          "text": [
            "Uedaは大人です。\n",
            "Kenは大人ではありません。\n",
            "Fukudaは大人ではありません。\n",
            "Tanakaは大人です。\n"
          ]
        }
      ],
      "source": [
        "from re import X\n",
        "from IPython.utils.path import get_ipython_cache_dir\n",
        "class Human:\n",
        "  def __init__(self, name, gender, age):\n",
        "    self.name = name\n",
        "    self.gender = gender\n",
        "    self.age = age\n",
        "\n",
        "  def check_adult(self):\n",
        "    if self.age >= 20:\n",
        "      print(f\"{self.name}は大人です。\")\n",
        "\n",
        "    else:\n",
        "      print(f\"{self.name}は大人ではありません。\")\n",
        "\n",
        "person1 = Human('Ueda', 'male', 49)\n",
        "check_adult_1 = person1.check_adult()\n",
        "\n",
        "person2 = Human(\"Ken\", \"male\", 12)\n",
        "person4 = Human(\"Tanaka\", \"female\", 24)\n",
        "person3 = Human(\"Fukuda\", \"male\", 9)\n",
        "\n",
        "check_adult_2 = person2.check_adult()\n",
        "check_adult_3 = person3.check_adult()\n",
        "check_adult_4 = person4.check_adult()\n",
        "\n",
        "\n",
        "\n"
      ]
    },
    {
      "cell_type": "code",
      "source": [
        "person2.age"
      ],
      "metadata": {
        "colab": {
          "base_uri": "https://localhost:8080/"
        },
        "id": "bjmeBnccH9q_",
        "outputId": "478f9a02-eaa1-43b5-8b96-4d2745bb3ea8"
      },
      "execution_count": 16,
      "outputs": [
        {
          "output_type": "execute_result",
          "data": {
            "text/plain": [
              "24"
            ]
          },
          "metadata": {},
          "execution_count": 16
        }
      ]
    }
  ]
}